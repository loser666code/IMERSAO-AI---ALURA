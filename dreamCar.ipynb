{
  "nbformat": 4,
  "nbformat_minor": 0,
  "metadata": {
    "colab": {
      "provenance": [],
      "authorship_tag": "ABX9TyPCSks/ni7G/im/ZRiVhze7",
      "include_colab_link": true
    },
    "kernelspec": {
      "name": "python3",
      "display_name": "Python 3"
    },
    "language_info": {
      "name": "python"
    }
  },
  "cells": [
    {
      "cell_type": "markdown",
      "metadata": {
        "id": "view-in-github",
        "colab_type": "text"
      },
      "source": [
        "<a href=\"https://colab.research.google.com/github/loser666code/IMERSAO-AI---ALURA/blob/main/dreamCar.ipynb\" target=\"_parent\"><img src=\"https://colab.research.google.com/assets/colab-badge.svg\" alt=\"Open In Colab\"/></a>"
      ]
    },
    {
      "cell_type": "code",
      "execution_count": 1,
      "metadata": {
        "id": "hXLYkQTlamBx",
        "colab": {
          "base_uri": "https://localhost:8080/"
        },
        "outputId": "17e19e55-75fd-4a2a-f90d-57553c270340"
      },
      "outputs": [
        {
          "output_type": "stream",
          "name": "stdout",
          "text": [
            "Cloning into 'IMERSAO-AI---ALURA'...\n",
            "remote: Enumerating objects: 3, done.\u001b[K\n",
            "remote: Counting objects: 100% (3/3), done.\u001b[K\n",
            "remote: Compressing objects: 100% (2/2), done.\u001b[K\n",
            "remote: Total 3 (delta 0), reused 0 (delta 0), pack-reused 0 (from 0)\u001b[K\n",
            "Receiving objects: 100% (3/3), done.\n"
          ]
        }
      ],
      "source": [
        "!git clone https://github.com/loser666code/IMERSAO-AI---ALURA.git"
      ]
    },
    {
      "cell_type": "code",
      "source": [
        "%pip -q install google-genai"
      ],
      "metadata": {
        "id": "zT2N5Ruwb8uf"
      },
      "execution_count": 2,
      "outputs": []
    },
    {
      "cell_type": "code",
      "source": [
        "import os\n",
        "from google.colab import userdata\n",
        "os.environ['GOOGLE_API_KEY'] = userdata.get('GOOGLE_API_KEY')"
      ],
      "metadata": {
        "id": "G9J5f8e8cH4D"
      },
      "execution_count": 3,
      "outputs": []
    },
    {
      "cell_type": "code",
      "source": [
        "from google import genai\n",
        "client = genai.Client()\n",
        "MODEL_ID = \"gemini-2.0-flash\"\n",
        "from IPython.display import HTML, Markdown"
      ],
      "metadata": {
        "id": "OoQBpGGickBg"
      },
      "execution_count": 4,
      "outputs": []
    },
    {
      "cell_type": "code",
      "source": [
        "!pip install -q google_adk"
      ],
      "metadata": {
        "colab": {
          "base_uri": "https://localhost:8080/"
        },
        "id": "x8mUgRscdCET",
        "outputId": "a00aff0d-c881-4ad0-8a49-71bd25005dad"
      },
      "execution_count": 5,
      "outputs": [
        {
          "output_type": "stream",
          "name": "stdout",
          "text": [
            "\u001b[?25l   \u001b[90m━━━━━━━━━━━━━━━━━━━━━━━━━━━━━━━━━━━━━━━━\u001b[0m \u001b[32m0.0/1.2 MB\u001b[0m \u001b[31m?\u001b[0m eta \u001b[36m-:--:--\u001b[0m\r\u001b[2K   \u001b[91m━━━━━━━━━━━━━━━━\u001b[0m\u001b[91m╸\u001b[0m\u001b[90m━━━━━━━━━━━━━━━━━━━━━━━\u001b[0m \u001b[32m0.5/1.2 MB\u001b[0m \u001b[31m15.1 MB/s\u001b[0m eta \u001b[36m0:00:01\u001b[0m\r\u001b[2K   \u001b[90m━━━━━━━━━━━━━━━━━━━━━━━━━━━━━━━━━━━━━━━━\u001b[0m \u001b[32m1.2/1.2 MB\u001b[0m \u001b[31m18.2 MB/s\u001b[0m eta \u001b[36m0:00:00\u001b[0m\n",
            "\u001b[?25h\u001b[?25l   \u001b[90m━━━━━━━━━━━━━━━━━━━━━━━━━━━━━━━━━━━━━━━━\u001b[0m \u001b[32m0.0/232.1 kB\u001b[0m \u001b[31m?\u001b[0m eta \u001b[36m-:--:--\u001b[0m\r\u001b[2K   \u001b[90m━━━━━━━━━━━━━━━━━━━━━━━━━━━━━━━━━━━━━━━━\u001b[0m \u001b[32m232.1/232.1 kB\u001b[0m \u001b[31m16.4 MB/s\u001b[0m eta \u001b[36m0:00:00\u001b[0m\n",
            "\u001b[2K   \u001b[90m━━━━━━━━━━━━━━━━━━━━━━━━━━━━━━━━━━━━━━━━\u001b[0m \u001b[32m95.2/95.2 kB\u001b[0m \u001b[31m7.2 MB/s\u001b[0m eta \u001b[36m0:00:00\u001b[0m\n",
            "\u001b[2K   \u001b[90m━━━━━━━━━━━━━━━━━━━━━━━━━━━━━━━━━━━━━━━━\u001b[0m \u001b[32m217.1/217.1 kB\u001b[0m \u001b[31m15.4 MB/s\u001b[0m eta \u001b[36m0:00:00\u001b[0m\n",
            "\u001b[2K   \u001b[90m━━━━━━━━━━━━━━━━━━━━━━━━━━━━━━━━━━━━━━━━\u001b[0m \u001b[32m334.1/334.1 kB\u001b[0m \u001b[31m19.9 MB/s\u001b[0m eta \u001b[36m0:00:00\u001b[0m\n",
            "\u001b[2K   \u001b[90m━━━━━━━━━━━━━━━━━━━━━━━━━━━━━━━━━━━━━━━━\u001b[0m \u001b[32m125.1/125.1 kB\u001b[0m \u001b[31m9.1 MB/s\u001b[0m eta \u001b[36m0:00:00\u001b[0m\n",
            "\u001b[2K   \u001b[90m━━━━━━━━━━━━━━━━━━━━━━━━━━━━━━━━━━━━━━━━\u001b[0m \u001b[32m65.8/65.8 kB\u001b[0m \u001b[31m4.9 MB/s\u001b[0m eta \u001b[36m0:00:00\u001b[0m\n",
            "\u001b[2K   \u001b[90m━━━━━━━━━━━━━━━━━━━━━━━━━━━━━━━━━━━━━━━━\u001b[0m \u001b[32m119.0/119.0 kB\u001b[0m \u001b[31m9.7 MB/s\u001b[0m eta \u001b[36m0:00:00\u001b[0m\n",
            "\u001b[2K   \u001b[90m━━━━━━━━━━━━━━━━━━━━━━━━━━━━━━━━━━━━━━━━\u001b[0m \u001b[32m194.9/194.9 kB\u001b[0m \u001b[31m15.8 MB/s\u001b[0m eta \u001b[36m0:00:00\u001b[0m\n",
            "\u001b[2K   \u001b[90m━━━━━━━━━━━━━━━━━━━━━━━━━━━━━━━━━━━━━━━━\u001b[0m \u001b[32m62.5/62.5 kB\u001b[0m \u001b[31m4.7 MB/s\u001b[0m eta \u001b[36m0:00:00\u001b[0m\n",
            "\u001b[2K   \u001b[90m━━━━━━━━━━━━━━━━━━━━━━━━━━━━━━━━━━━━━━━━\u001b[0m \u001b[32m103.3/103.3 kB\u001b[0m \u001b[31m8.4 MB/s\u001b[0m eta \u001b[36m0:00:00\u001b[0m\n",
            "\u001b[2K   \u001b[90m━━━━━━━━━━━━━━━━━━━━━━━━━━━━━━━━━━━━━━━━\u001b[0m \u001b[32m44.4/44.4 kB\u001b[0m \u001b[31m3.3 MB/s\u001b[0m eta \u001b[36m0:00:00\u001b[0m\n",
            "\u001b[2K   \u001b[90m━━━━━━━━━━━━━━━━━━━━━━━━━━━━━━━━━━━━━━━━\u001b[0m \u001b[32m72.0/72.0 kB\u001b[0m \u001b[31m5.8 MB/s\u001b[0m eta \u001b[36m0:00:00\u001b[0m\n",
            "\u001b[?25h"
          ]
        }
      ]
    },
    {
      "cell_type": "code",
      "source": [
        "from google.adk.agents import Agent\n",
        "from google.adk.runners import Runner\n",
        "from google.adk.sessions import InMemorySessionService\n",
        "from google.genai import types\n",
        "from datetime import date\n",
        "import textwrap\n",
        "from IPython.display import display, Markdown\n",
        "import requests\n",
        "import warnings\n",
        "warnings.filterwarnings(\"ignore\")"
      ],
      "metadata": {
        "id": "gHhCN-r_dSlB"
      },
      "execution_count": 6,
      "outputs": []
    },
    {
      "cell_type": "code",
      "source": [
        "def chamarAgente(agent: Agent, message_text: str) -> str:\n",
        "    session_service = InMemorySessionService()\n",
        "    session = session_service.create_session(app_name=agent.name, user_id=\"user1\", session_id=\"session1\")\n",
        "    runner = Runner(agent=agent, app_name=agent.name, session_service=session_service)\n",
        "    content = types.Content(role=\"user\", parts=[types.Part(text=message_text)])\n",
        "    final_response = \"\"\n",
        "    for event in runner.run(user_id=\"user1\", session_id=\"session1\", new_message=content):\n",
        "        if event.is_final_response():\n",
        "          for part in event.content.parts:\n",
        "            if part.text is not None:\n",
        "              final_response += part.text\n",
        "              final_response += \"\\n\"\n",
        "    return final_response"
      ],
      "metadata": {
        "id": "PWZ8HwHNdtws"
      },
      "execution_count": 35,
      "outputs": []
    },
    {
      "cell_type": "code",
      "source": [
        "def to_markdown(text):\n",
        "  text = text.replace('•', '  *')\n",
        "  return Markdown(textwrap.indent(text, '> ', predicate=lambda _: True))"
      ],
      "metadata": {
        "id": "rymU8Y96hPMa"
      },
      "execution_count": 8,
      "outputs": []
    },
    {
      "cell_type": "code",
      "source": [
        "def agente_analista(crt):\n",
        "      analista = Agent(\n",
        "      name = \"Analistadecaracteristicas\",\n",
        "      model = \"gemini-2.0-flash\",\n",
        "      description=\"Esse agente recebe todas as caracteristica do usuario e então indica todos os atributos que o carro precisa ter\",\n",
        "      instruction=\"\"\"Você é especialista em veículos automotores especialmente em corretora de automoveis, a tarefa é analisar a lista de carracteristica de uma entidade e\n",
        "      listar as necessidades e requisistos para o carro ideal para essa entidade, você está listando esses requisitos e necessidades para um especialista em automotores,\n",
        "      formatada dessa maneira:\n",
        "      baixo custo de manutenção : Com mecânica é simples e muitos mecânicos têm experiência com a manutenção do carro\n",
        "      \"\"\"\n",
        "     )\n",
        "      entrada_analista = f\"caracteristicas : {crt}\"\n",
        "      lista_necessidades = chamarAgente(analista, entrada_analista)\n",
        "      return lista_necessidades"
      ],
      "metadata": {
        "id": "5I1NhdTChQfJ"
      },
      "execution_count": 45,
      "outputs": []
    },
    {
      "cell_type": "code",
      "source": [
        "def agente_pesquisador(lista_necessidades):\n",
        "      pesquisador = Agent(\n",
        "      name = \"Pesquisadordecarros\",\n",
        "      model = \"gemini-2.0-flash\",\n",
        "      description=\"Esse agente recebe todas as caracteristica do usuario e então indica todos os atributos que o carro precisa ter\",\n",
        "      instruction=\"\"\"\n",
        "      Você é especialista em veículos automotores especialmente em mecanica, analise todas as necessidades do carro e informe o carro que é possivel se compara no\n",
        "      Brasil com facilidade que preencha todos esse requisitos dando prioridade a carro que preencha todos ou a maior quantidade atributos, apresentando o porque ele\n",
        "      preenche esses requisitos, também os pontos positivos e negativos do carro para alguém que tem basico ou nenhum conhecimento sobre carros\n",
        "      \"\"\"\n",
        "     )\n",
        "      entrada_pesquisador = f\"lista de necessidades: {lista_necessidades}\"\n",
        "      carro_ideal = chamarAgente(pesquisador, entrada_pesquisador)\n",
        "      return carro_ideal"
      ],
      "metadata": {
        "id": "_FBrV9RKl_Bl"
      },
      "execution_count": 49,
      "outputs": []
    },
    {
      "cell_type": "code",
      "source": [
        "crt = input(\"quais as suas necessidades?\")\n",
        "listaNecessidades = agente_analista(crt)\n",
        "display(to_markdown(listaNecessidades))\n",
        "pesquisa = agente_pesquisador(listaNecessidades)\n",
        "display(to_markdown(pesquisa))"
      ],
      "metadata": {
        "colab": {
          "base_uri": "https://localhost:8080/",
          "height": 779
        },
        "id": "foAUddqkpHeX",
        "outputId": "bb312629-2c06-4035-ca4d-bcbe4e04cfc0"
      },
      "execution_count": 50,
      "outputs": [
        {
          "name": "stdout",
          "output_type": "stream",
          "text": [
            "quais as suas necessidades?baixo orçamento\n"
          ]
        },
        {
          "output_type": "display_data",
          "data": {
            "text/plain": [
              "<IPython.core.display.Markdown object>"
            ],
            "text/markdown": "> baixo custo de aquisição: Carros mais acessíveis no mercado de usados ou modelos de entrada novos.\n> baixo custo de manutenção : Com mecânica é simples e muitos mecânicos têm experiência com a manutenção do carro\n> boa economia de combustível: Para reduzir os gastos com combustível no uso diário.\n> seguro acessível: Modelos com menor índice de roubo e peças de reposição mais baratas geralmente têm seguros mais em conta.\n> facilidade de revenda: Escolher um modelo popular e com boa aceitação no mercado garante uma revenda mais rápida e com menor desvalorização.\n"
          },
          "metadata": {}
        },
        {
          "output_type": "display_data",
          "data": {
            "text/plain": [
              "<IPython.core.display.Markdown object>"
            ],
            "text/markdown": "> Com base nas suas necessidades, o carro que melhor se encaixa no perfil de baixo custo, manutenção acessível, economia de combustível, seguro acessível e facilidade de revenda no mercado brasileiro é o **Volkswagen Gol**.\n> \n> **Por que o Gol atende a esses requisitos:**\n> \n> *   **Baixo custo de aquisição:** O Gol é um dos carros mais populares no Brasil, com uma ampla oferta de modelos usados a preços acessíveis. Mesmo os modelos de entrada 0km costumam ter preços competitivos.\n> *   **Baixo custo de manutenção:** A mecânica do Gol é conhecida por ser simples e robusta, o que facilita a manutenção e reduz os custos com peças e mão de obra. Além disso, a grande quantidade de Gol em circulação garante que muitos mecânicos tenham experiência com o modelo.\n> *   **Boa economia de combustível:** O Gol, especialmente com motores 1.0, é um carro econômico em termos de consumo de combustível, o que ajuda a reduzir os gastos no uso diário.\n> *   **Seguro acessível:** Por ser um carro popular e com menor índice de roubo em comparação com outros modelos, o Gol geralmente tem seguros mais baratos. As peças de reposição também são mais acessíveis, o que contribui para um seguro mais em conta.\n> *   **Facilidade de revenda:** O Gol é um dos carros mais vendidos no Brasil, o que garante uma boa aceitação no mercado de usados e facilita a revenda. A desvalorização também costuma ser menor em comparação com outros modelos menos populares.\n> \n> **Pontos positivos do Gol para iniciantes:**\n> \n> *   **Fácil de dirigir:** O Gol é um carro leve e com boa dirigibilidade, o que o torna fácil de manobrar e ideal para quem está começando a dirigir.\n> *   **Manutenção simples:** A mecânica do Gol é descomplicada, o que facilita a manutenção e permite que você aprenda sobre o funcionamento do carro com mais facilidade.\n> *   **Peças acessíveis:** Encontrar peças de reposição para o Gol é fácil e barato, o que reduz os custos com manutenção e reparos.\n> *   **Ampla oferta de modelos:** A grande variedade de modelos e versões do Gol permite que você escolha o carro que melhor se adapta às suas necessidades e orçamento.\n> \n> **Pontos negativos do Gol para iniciantes:**\n> \n> *   **Equipamentos básicos:** Os modelos de entrada do Gol geralmente vêm com poucos equipamentos de série, o que pode ser um problema para quem busca mais conforto e tecnologia.\n> *   **Segurança:** Em termos de segurança, o Gol pode não ser o carro mais completo do mercado, especialmente nos modelos mais antigos. É importante verificar os equipamentos de segurança (airbags, freios ABS) ao escolher um modelo usado.\n> *   **Design:** O design do Gol pode ser considerado um pouco datado em comparação com outros carros mais modernos, mas isso é uma questão de preferência pessoal.\n> \n> **Outras opções:**\n> \n> Embora o Gol seja uma excelente opção, outros carros que também podem atender às suas necessidades são:\n> \n> *   **Fiat Palio/Uno:** Assim como o Gol, são carros populares, com manutenção acessível e boa economia de combustível.\n> *   **Ford Ka:** Uma opção mais moderna e com design atraente, mas com manutenção um pouco mais cara que o Gol.\n> *   **Volkswagen Fox:** Uma opção mais espaçosa e confortável que o Gol, mas com preço um pouco mais elevado.\n> \n> Ao escolher o seu carro, é importante pesquisar bem, comparar preços e verificar o estado de conservação do veículo antes de fechar negócio.\n"
          },
          "metadata": {}
        }
      ]
    },
    {
      "cell_type": "code",
      "source": [
        "!git config --global user.name \"Camila Schmidt\"\n",
        "!git config --global user.email \"programmer666loser@gamil.com\""
      ],
      "metadata": {
        "id": "C2k2C-mDyZzt"
      },
      "execution_count": 51,
      "outputs": []
    },
    {
      "cell_type": "code",
      "source": [],
      "metadata": {
        "id": "VTwzvuJNyt6B"
      },
      "execution_count": null,
      "outputs": []
    }
  ]
}