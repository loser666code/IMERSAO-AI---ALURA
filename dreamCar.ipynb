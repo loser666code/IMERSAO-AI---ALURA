{
  "nbformat": 4,
  "nbformat_minor": 0,
  "metadata": {
    "colab": {
      "provenance": []
    },
    "kernelspec": {
      "name": "python3",
      "display_name": "Python 3"
    },
    "language_info": {
      "name": "python"
    }
  },
  "cells": [
    {
      "cell_type": "code",
      "execution_count": null,
      "metadata": {
        "id": "hXLYkQTlamBx",
        "colab": {
          "base_uri": "https://localhost:8080/"
        },
        "outputId": "17e19e55-75fd-4a2a-f90d-57553c270340"
      },
      "outputs": [
        {
          "output_type": "stream",
          "name": "stdout",
          "text": [
            "Cloning into 'IMERSAO-AI---ALURA'...\n",
            "remote: Enumerating objects: 3, done.\u001b[K\n",
            "remote: Counting objects: 100% (3/3), done.\u001b[K\n",
            "remote: Compressing objects: 100% (2/2), done.\u001b[K\n",
            "remote: Total 3 (delta 0), reused 0 (delta 0), pack-reused 0 (from 0)\u001b[K\n",
            "Receiving objects: 100% (3/3), done.\n"
          ]
        }
      ],
      "source": [
        "!git clone https://github.com/loser666code/IMERSAO-AI---ALURA.git"
      ]
    },
    {
      "cell_type": "code",
      "source": [
        "%pip -q install google-genai"
      ],
      "metadata": {
        "id": "zT2N5Ruwb8uf"
      },
      "execution_count": 4,
      "outputs": []
    },
    {
      "cell_type": "code",
      "source": [
        "import os\n",
        "from google.colab import userdata\n",
        "os.environ['GOOGLE_API_KEY'] = userdata.get('GOOGLE_API_KEY')"
      ],
      "metadata": {
        "id": "G9J5f8e8cH4D"
      },
      "execution_count": 5,
      "outputs": []
    },
    {
      "cell_type": "code",
      "source": [
        "from google import genai\n",
        "client = genai.Client()\n",
        "MODEL_ID = \"gemini-2.0-flash\"\n",
        "from IPython.display import HTML, Markdown"
      ],
      "metadata": {
        "id": "OoQBpGGickBg"
      },
      "execution_count": 6,
      "outputs": []
    },
    {
      "cell_type": "code",
      "source": [
        "!pip install -q google_adk"
      ],
      "metadata": {
        "colab": {
          "base_uri": "https://localhost:8080/"
        },
        "id": "x8mUgRscdCET",
        "outputId": "1db0cb48-bd4e-48f4-a615-37e5aa5bdbb3"
      },
      "execution_count": 7,
      "outputs": [
        {
          "output_type": "stream",
          "name": "stdout",
          "text": [
            "\u001b[?25l   \u001b[90m━━━━━━━━━━━━━━━━━━━━━━━━━━━━━━━━━━━━━━━━\u001b[0m \u001b[32m0.0/1.2 MB\u001b[0m \u001b[31m?\u001b[0m eta \u001b[36m-:--:--\u001b[0m\r\u001b[2K   \u001b[91m━━━━━━━━━━━━━━━\u001b[0m\u001b[90m╺\u001b[0m\u001b[90m━━━━━━━━━━━━━━━━━━━━━━━━\u001b[0m \u001b[32m0.5/1.2 MB\u001b[0m \u001b[31m13.4 MB/s\u001b[0m eta \u001b[36m0:00:01\u001b[0m\r\u001b[2K   \u001b[91m━━━━━━━━━━━━━━━━━━━━━━━━━━━━━━━━━━━━━━━\u001b[0m\u001b[91m╸\u001b[0m \u001b[32m1.2/1.2 MB\u001b[0m \u001b[31m20.2 MB/s\u001b[0m eta \u001b[36m0:00:01\u001b[0m\r\u001b[2K   \u001b[90m━━━━━━━━━━━━━━━━━━━━━━━━━━━━━━━━━━━━━━━━\u001b[0m \u001b[32m1.2/1.2 MB\u001b[0m \u001b[31m15.6 MB/s\u001b[0m eta \u001b[36m0:00:00\u001b[0m\n",
            "\u001b[?25h\u001b[?25l   \u001b[90m━━━━━━━━━━━━━━━━━━━━━━━━━━━━━━━━━━━━━━━━\u001b[0m \u001b[32m0.0/232.1 kB\u001b[0m \u001b[31m?\u001b[0m eta \u001b[36m-:--:--\u001b[0m\r\u001b[2K   \u001b[90m━━━━━━━━━━━━━━━━━━━━━━━━━━━━━━━━━━━━━━━━\u001b[0m \u001b[32m232.1/232.1 kB\u001b[0m \u001b[31m16.1 MB/s\u001b[0m eta \u001b[36m0:00:00\u001b[0m\n",
            "\u001b[2K   \u001b[90m━━━━━━━━━━━━━━━━━━━━━━━━━━━━━━━━━━━━━━━━\u001b[0m \u001b[32m95.2/95.2 kB\u001b[0m \u001b[31m7.0 MB/s\u001b[0m eta \u001b[36m0:00:00\u001b[0m\n",
            "\u001b[2K   \u001b[90m━━━━━━━━━━━━━━━━━━━━━━━━━━━━━━━━━━━━━━━━\u001b[0m \u001b[32m217.1/217.1 kB\u001b[0m \u001b[31m15.5 MB/s\u001b[0m eta \u001b[36m0:00:00\u001b[0m\n",
            "\u001b[2K   \u001b[90m━━━━━━━━━━━━━━━━━━━━━━━━━━━━━━━━━━━━━━━━\u001b[0m \u001b[32m334.1/334.1 kB\u001b[0m \u001b[31m22.1 MB/s\u001b[0m eta \u001b[36m0:00:00\u001b[0m\n",
            "\u001b[2K   \u001b[90m━━━━━━━━━━━━━━━━━━━━━━━━━━━━━━━━━━━━━━━━\u001b[0m \u001b[32m125.1/125.1 kB\u001b[0m \u001b[31m9.8 MB/s\u001b[0m eta \u001b[36m0:00:00\u001b[0m\n",
            "\u001b[2K   \u001b[90m━━━━━━━━━━━━━━━━━━━━━━━━━━━━━━━━━━━━━━━━\u001b[0m \u001b[32m65.8/65.8 kB\u001b[0m \u001b[31m4.4 MB/s\u001b[0m eta \u001b[36m0:00:00\u001b[0m\n",
            "\u001b[2K   \u001b[90m━━━━━━━━━━━━━━━━━━━━━━━━━━━━━━━━━━━━━━━━\u001b[0m \u001b[32m119.0/119.0 kB\u001b[0m \u001b[31m8.9 MB/s\u001b[0m eta \u001b[36m0:00:00\u001b[0m\n",
            "\u001b[2K   \u001b[90m━━━━━━━━━━━━━━━━━━━━━━━━━━━━━━━━━━━━━━━━\u001b[0m \u001b[32m194.9/194.9 kB\u001b[0m \u001b[31m12.4 MB/s\u001b[0m eta \u001b[36m0:00:00\u001b[0m\n",
            "\u001b[2K   \u001b[90m━━━━━━━━━━━━━━━━━━━━━━━━━━━━━━━━━━━━━━━━\u001b[0m \u001b[32m62.5/62.5 kB\u001b[0m \u001b[31m3.8 MB/s\u001b[0m eta \u001b[36m0:00:00\u001b[0m\n",
            "\u001b[2K   \u001b[90m━━━━━━━━━━━━━━━━━━━━━━━━━━━━━━━━━━━━━━━━\u001b[0m \u001b[32m103.3/103.3 kB\u001b[0m \u001b[31m6.8 MB/s\u001b[0m eta \u001b[36m0:00:00\u001b[0m\n",
            "\u001b[2K   \u001b[90m━━━━━━━━━━━━━━━━━━━━━━━━━━━━━━━━━━━━━━━━\u001b[0m \u001b[32m44.4/44.4 kB\u001b[0m \u001b[31m2.8 MB/s\u001b[0m eta \u001b[36m0:00:00\u001b[0m\n",
            "\u001b[2K   \u001b[90m━━━━━━━━━━━━━━━━━━━━━━━━━━━━━━━━━━━━━━━━\u001b[0m \u001b[32m72.0/72.0 kB\u001b[0m \u001b[31m4.5 MB/s\u001b[0m eta \u001b[36m0:00:00\u001b[0m\n",
            "\u001b[?25h"
          ]
        }
      ]
    },
    {
      "cell_type": "code",
      "source": [
        "from google.adk.agents import Agent\n",
        "from google.adk.runners import Runner\n",
        "from google.adk.sessions import InMemorySessionService\n",
        "from google.genai import types\n",
        "from datetime import date\n",
        "import textwrap\n",
        "from IPython.display import display, Markdown\n",
        "import requests\n",
        "import warnings\n",
        "warnings.filterwarnings(\"ignore\")"
      ],
      "metadata": {
        "id": "gHhCN-r_dSlB"
      },
      "execution_count": 8,
      "outputs": []
    },
    {
      "cell_type": "code",
      "source": [
        "def chamarAgente(agent: Agent, message_text: str) -> str:\n",
        "    session_service = InMemorySessionService()\n",
        "    session = session_service.create_session(app_name=agent.name, user_id=\"user1\", session_id=\"session1\")\n",
        "    runner = Runner(agent=agent, app_name=agent.name, session_service=session_service)\n",
        "    content = types.Content(role=\"user\", parts=[types.Part(text=message_text)])\n",
        "    final_response = \"\"\n",
        "    for event in runner.run(user_id=\"user1\", session_id=\"session1\", new_message=content):\n",
        "        if event.is_final_response():\n",
        "          for part in event.content.parts:\n",
        "            if part.text is not None:\n",
        "              final_response += part.text\n",
        "              final_response += \"\\n\"\n",
        "    return final_response"
      ],
      "metadata": {
        "id": "PWZ8HwHNdtws"
      },
      "execution_count": 9,
      "outputs": []
    },
    {
      "cell_type": "code",
      "source": [
        "def to_markdown(text):\n",
        "  text = text.replace('•', '  *')\n",
        "  return Markdown(textwrap.indent(text, '> ', predicate=lambda _: True))"
      ],
      "metadata": {
        "id": "rymU8Y96hPMa"
      },
      "execution_count": 10,
      "outputs": []
    },
    {
      "cell_type": "code",
      "source": [
        "def agente_analista(crt):\n",
        "      analista = Agent(\n",
        "      name = \"Analistadecaracteristicas\",\n",
        "      model = \"gemini-2.0-flash\",\n",
        "      description=\"Esse agente recebe todas as caracteristica do usuario e então indica todos os atributos que o carro precisa ter\",\n",
        "      instruction=\"\"\"Você é um especialista altamente experiente em veículos automotores, com foco específico na área de corretagem de automóveis.\n",
        "       Sua tarefa é analisar detalhadamente a lista de características de uma entidade (que será fornecida) e,\n",
        "       com base nessa análise, identificar e listar as necessidades e os requisitos para o carro ideal para essa entidade.\n",
        "       Lembre-se que o público-alvo desta lista é outro especialista em automotores, portanto, a linguagem pode ser técnica e direta.\n",
        "       A formatação de cada requisito e necessidade deve seguir o seguinte padrão:\n",
        "       [Nome do Requisito/Necessidade]: [Justificativa detalhada e concisa, conectando a característica da entidade ao requisito do veículo.\n",
        "       Explique o porquê dessa necessidade ser importante, considerando fatores como uso pretendido,\n",
        "       perfil do usuário e quaisquer outras informações relevantes sobre a entidade.]\n",
        "      \"\"\"\n",
        "     )\n",
        "      entrada_analista = f\"caracteristicas : {crt}\"\n",
        "      lista_necessidades = chamarAgente(analista, entrada_analista)\n",
        "      return lista_necessidades"
      ],
      "metadata": {
        "id": "5I1NhdTChQfJ"
      },
      "execution_count": 11,
      "outputs": []
    },
    {
      "cell_type": "code",
      "source": [
        "def agente_pesquisador(lista_necessidades):\n",
        "      pesquisador = Agent(\n",
        "      name = \"Pesquisadordecarros\",\n",
        "      model = \"gemini-2.0-flash\",\n",
        "      description=\"Esse agente recebe todas as caracteristica do usuario e então indica todos os atributos que o carro precisa ter\",\n",
        "      instruction=\"\"\"\n",
        "      Você é um especialista em veículos automotores, com profundo conhecimento em mecânica automotiva.\n",
        "      Sua tarefa é analisar minuciosamente uma lista de necessidades para um carro (que será fornecida).\n",
        "      Com base nessa análise, você deverá identificar um modelo de carro disponível no mercado brasileiro que melhor se compare e preencha esses requisitos,\n",
        "      priorizando aqueles que atendem ao máximo de atributos listados.\n",
        "      \"\"\"\n",
        "     )\n",
        "      entrada_pesquisador = f\"lista de necessidades: {lista_necessidades}\"\n",
        "      carro_ideal = chamarAgente(pesquisador, entrada_pesquisador)\n",
        "      return carro_ideal"
      ],
      "metadata": {
        "id": "_FBrV9RKl_Bl"
      },
      "execution_count": 12,
      "outputs": []
    },
    {
      "cell_type": "code",
      "source": [
        "crt = input(\"quais as suas necessidades?\")\n",
        "listaNecessidades = agente_analista(crt)\n",
        "display(to_markdown(listaNecessidades))\n",
        "pesquisa = agente_pesquisador(listaNecessidades)\n",
        "display(to_markdown(pesquisa))"
      ],
      "metadata": {
        "colab": {
          "base_uri": "https://localhost:8080/",
          "height": 989
        },
        "id": "foAUddqkpHeX",
        "outputId": "4732ac22-2817-42a6-cdb8-c8f48a0f6ab4"
      },
      "execution_count": 16,
      "outputs": [
        {
          "name": "stdout",
          "output_type": "stream",
          "text": [
            "quais as suas necessidades?Realiza entregas frequentes em áreas urbanas com ruas estreitas e tráfego intenso\n"
          ]
        },
        {
          "output_type": "display_data",
          "data": {
            "text/plain": [
              "<IPython.core.display.Markdown object>"
            ],
            "text/markdown": "> Aqui estão os requisitos e necessidades para o veículo ideal, com base nas características fornecidas:\n> \n> *   **Manobrabilidade em Espaços Confinados:** Dada a frequência de entregas em áreas urbanas com ruas estreitas, o veículo precisa ter um raio de giro curto e dimensões compactas para facilitar manobras e estacionamento em espaços limitados.\n> \n> *   **Durabilidade da Suspensão:** Considerando o uso urbano constante e a possibilidade de buracos e irregularidades nas vias, a suspensão do veículo deve ser robusta e durável, capaz de suportar o desgaste diário sem comprometer o conforto ou a capacidade de carga.\n> \n> *   **Transmissão Ágil:** Para lidar com o tráfego intenso e as constantes paradas e partidas, o veículo necessita de uma transmissão responsiva (automática ou automatizada) que permita acelerações rápidas e retomadas eficientes, garantindo agilidade no trânsito.\n> \n> *   **Visibilidade Aprimorada:** Em ambientes urbanos congestionados, a visibilidade é crucial. O veículo deve oferecer um campo de visão amplo e desobstruído, com espelhos retrovisores de grandes dimensões e, idealmente, recursos como câmera de ré e sensores de ponto cego para minimizar os riscos de acidentes.\n> \n> *   **Economia de Combustível:** Considerando as frequentes entregas e o alto volume de quilometragem percorrida em áreas urbanas, a eficiência no consumo de combustível é fundamental para reduzir os custos operacionais. Priorizar veículos com motores de baixo consumo e tecnologias como start-stop.\n> \n> *   **Capacidade de Carga Otimizada:** O veículo deve possuir um compartimento de carga com capacidade suficiente para acomodar as entregas típicas, com acesso fácil e rápido para otimizar o tempo de carregamento e descarregamento.\n> \n> *   **Confiabilidade Mecânica:** A confiabilidade é crucial para evitar interrupções nas entregas. O veículo deve ser de uma marca com boa reputação em termos de durabilidade e baixo índice de manutenção, minimizando o tempo de inatividade por problemas mecânicos.\n> \n> *   **Sistemas de Segurança Ativos:** Considerando o alto risco de acidentes em áreas urbanas movimentadas, o veículo deve ser equipado com sistemas de segurança ativos, como freios ABS, controle de estabilidade (ESP) e assistente de partida em rampa (HSA), para auxiliar o condutor em situações de emergência e reduzir o risco de colisões.\n"
          },
          "metadata": {}
        },
        {
          "output_type": "display_data",
          "data": {
            "text/plain": [
              "<IPython.core.display.Markdown object>"
            ],
            "text/markdown": "> Com base na sua lista detalhada de necessidades, o veículo ideal para suas operações de entrega em áreas urbanas no Brasil deve combinar agilidade, durabilidade, economia e segurança. Considerando esses fatores, o modelo que melhor se encaixa nas suas necessidades é o **Fiat Fiorino**.\n> \n> **Justificativas:**\n> \n> *   **Manobrabilidade:** O Fiat Fiorino é conhecido por suas dimensões compactas e excelente raio de giro, facilitando manobras em ruas estreitas e estacionamento em espaços limitados, típicos de áreas urbanas.\n> *   **Durabilidade da Suspensão:** Projetado para uso comercial, o Fiorino possui uma suspensão robusta capaz de suportar as condições adversas das vias urbanas, incluindo buracos e irregularidades, sem comprometer a capacidade de carga.\n> *   **Transmissão Ágil:** Embora o Fiorino não ofereça transmissão automática, sua transmissão manual bem ajustada proporciona trocas de marcha suaves e eficientes, permitindo acelerações rápidas e retomadas ágeis no trânsito urbano.\n> *   **Visibilidade Aprimorada:** O Fiorino oferece boa visibilidade frontal e lateral, com espelhos retrovisores amplos. A instalação de acessórios como câmera de ré pode ser considerada para melhorar ainda mais a visibilidade em manobras.\n> *   **Economia de Combustível:** Equipado com um motor 1.4 flex, o Fiorino oferece bom consumo de combustível, especialmente em uso urbano, contribuindo para a redução dos custos operacionais.\n> *   **Capacidade de Carga Otimizada:** O compartimento de carga do Fiorino é projetado para acomodar um volume razoável de entregas, com acesso fácil e rápido pela porta traseira e pelas portas laterais corrediças, otimizando o tempo de carregamento e descarregamento.\n> *   **Confiabilidade Mecânica:** A Fiat possui uma boa reputação em termos de durabilidade e baixo índice de manutenção, tornando o Fiorino uma escolha confiável para uso comercial.\n> *   **Sistemas de Segurança Ativos:** O Fiorino é equipado com freios ABS e controle de estabilidade (ESP), garantindo a segurança do condutor em situações de emergência.\n> \n> **Considerações Adicionais:**\n> \n> *   **Custo-Benefício:** O Fiat Fiorino oferece um bom custo-benefício, combinando um preço acessível com baixo custo de manutenção e boa disponibilidade de peças de reposição.\n> *   **Adaptações:** O Fiorino pode ser facilmente adaptado para atender às necessidades específicas da sua operação, como a instalação de prateleiras ou divisórias no compartimento de carga.\n> \n> Embora outros modelos possam atender a alguns dos seus requisitos, o Fiat Fiorino se destaca como a opção mais equilibrada e adequada para suas necessidades de entrega em áreas urbanas no Brasil.\n"
          },
          "metadata": {}
        },
        {
          "output_type": "display_data",
          "data": {
            "text/plain": [
              "'\\n'"
            ],
            "application/vnd.google.colaboratory.intrinsic+json": {
              "type": "string"
            }
          },
          "metadata": {}
        }
      ]
    },
    {
      "cell_type": "code",
      "source": [],
      "metadata": {
        "id": "VTwzvuJNyt6B"
      },
      "execution_count": null,
      "outputs": []
    }
  ]
}